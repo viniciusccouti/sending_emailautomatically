{
 "cells": [
  {
   "cell_type": "code",
   "execution_count": null,
   "id": "6eebf29f",
   "metadata": {},
   "outputs": [],
   "source": [
    "import os\n",
    "caminho = r\"C:\\Users\\vinicius_coutinho\\Downloads\"\n",
    "lista_arquivos = os.listdir(caminho)\n",
    "\n",
    "lista_datas = []\n",
    "for arquivo in lista_arquivos:\n",
    "    #descobrir a data desse arquivo\n",
    "    data = os.path.getmtime(f\"{caminho}/{arquivo}\")\n",
    "    lista_datas.append((data, arquivo))\n",
    "lista_datas.sort(reverse=True)\n",
    "ultimo_arquivo = lista_datas[0]   \n",
    "print(ultimo_arquivo[1])"
   ]
  },
  {
   "cell_type": "code",
   "execution_count": 10,
   "id": "9e4668c9",
   "metadata": {
    "scrolled": true
   },
   "outputs": [],
   "source": [
    "#sending the email\n",
    "from selenium import webdriver\n",
    "from selenium.webdriver.common.by import By\n",
    "import datetime\n",
    "import locale\n",
    "import pyperclip\n",
    "import time\n",
    "import pyautogui as py\n",
    "\n",
    "#new chrome page\n",
    "py.keyDown('ctrl')\n",
    "py.press('t')\n",
    "py.keyUp('ctrl')\n",
    "time.sleep(2)\n",
    "py.write('hotmail.com')\n",
    "py.press('enter')\n",
    "time.sleep(6)\n",
    "\n",
    "# Set the locale to Portuguese\n",
    "locale.setlocale(locale.LC_TIME, 'pt_BR')\n",
    "\n",
    "# Get the current month in Portuguese\n",
    "current_month = datetime.datetime.now().strftime('%B')\n",
    "\n",
    "\n",
    "#open new email\n",
    "py.press('n')\n",
    "time.sleep(1)\n",
    "py.write('xyz@gmail.com') # email that you want to insert \n",
    "time.sleep(1)\n",
    "py.press('tab')\n",
    "time.sleep(1)\n",
    "py.press('tab')\n",
    "time.sleep(1)\n",
    "py.write(f'NF MES {current_month}')\n",
    "py.press('tab')\n",
    "#email body  \n",
    "email_content = f'Boa tarde, time de faturamento !\\n\\nSegue em anexo, a NF referente ao serviço prestado no mês de {current_month}.\\n\\n Esta se refere ao suporte online.\\n\\nQualquer problema estou à disposição.\\n\\nMuito obrigado.'\n",
    "\n",
    "pyperclip.copy(email_content)\n",
    "\n",
    "py.keyDown('ctrl')\n",
    "py.press('v')\n",
    "py.keyUp('ctrl')\n",
    "time.sleep(1)\n",
    "#attach last item in downloads\n",
    "py.click(1559,261)\n",
    "time.sleep(2)\n",
    "py.press('down') \n",
    "time.sleep(1)\n",
    "py.press('enter')\n",
    "time.sleep(2)\n",
    "py.click(314,212)\n",
    "py.press('enter')\n",
    "time.sleep(5)\n",
    "\n",
    "#sending the email  \n",
    "py.keyDown('ctrl')\n",
    "py.keyDown('enter')\n",
    "py.keyUp('ctrl')\n"
   ]
  },
  {
   "cell_type": "code",
   "execution_count": 5,
   "id": "71f44067",
   "metadata": {},
   "outputs": [
    {
     "data": {
      "text/plain": [
       "Point(x=391, y=235)"
      ]
     },
     "execution_count": 5,
     "metadata": {},
     "output_type": "execute_result"
    }
   ],
   "source": []
  }
 ],
 "metadata": {
  "kernelspec": {
   "display_name": "Python 3 (ipykernel)",
   "language": "python",
   "name": "python3"
  },
  "language_info": {
   "codemirror_mode": {
    "name": "ipython",
    "version": 3
   },
   "file_extension": ".py",
   "mimetype": "text/x-python",
   "name": "python",
   "nbconvert_exporter": "python",
   "pygments_lexer": "ipython3",
   "version": "3.9.7"
  }
 },
 "nbformat": 4,
 "nbformat_minor": 5
}
