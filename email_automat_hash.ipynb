{
 "cells": [
  {
   "cell_type": "code",
   "execution_count": 10,
   "id": "9e4668c9",
   "metadata": {
    "scrolled": true
   },
   "outputs": [],
   "source": [
    "#remember to have only this page open before run the code\n",
    "\n",
    "#sending the email\n",
    "from selenium import webdriver\n",
    "from selenium.webdriver.common.by import By\n",
    "import datetime\n",
    "import locale\n",
    "import pyperclip\n",
    "import time\n",
    "import pyautogui as py\n",
    "\n",
    "#new chrome page\n",
    "py.keyDown('ctrl')\n",
    "py.press('t')\n",
    "py.keyUp('ctrl')\n",
    "time.sleep(2)\n",
    "py.write('hotmail.com')\n",
    "py.press('enter')\n",
    "time.sleep(6)\n",
    "\n",
    "# Set the locale to Portuguese\n",
    "locale.setlocale(locale.LC_TIME, 'pt_BR')\n",
    "\n",
    "# Get the current month in Portuguese\n",
    "current_month = datetime.datetime.now().strftime('%B')\n",
    "\n",
    "\n",
    "#open new email\n",
    "py.press('n')\n",
    "time.sleep(1)\n",
    "py.write('maguiladasapiranga@gmail.com') # change for hashtag email when coding is done\n",
    "time.sleep(1)\n",
    "py.press('tab')\n",
    "time.sleep(1)\n",
    "py.press('tab')\n",
    "time.sleep(1)\n",
    "py.write(f'NF MES {current_month}')\n",
    "py.press('tab')\n",
    "#email body  \n",
    "email_content = f'Boa tarde, time de faturamento da Hashtag!\\n\\nSegue em anexo, a NF referente ao serviço prestado no mês de {current_month}.\\n\\n Esta se refere ao suporte para novas aulas da apostila de Excel Incompany.\\n\\nQualquer problema estou à disposição.\\n\\nMuito obrigado.'\n",
    "\n",
    "pyperclip.copy(email_content)\n",
    "\n",
    "py.keyDown('ctrl')\n",
    "py.press('v')\n",
    "py.keyUp('ctrl')\n",
    "time.sleep(1)\n",
    "#attach last item in downloads\n",
    "py.click(1559,261)\n",
    "time.sleep(2)\n",
    "py.press('down') \n",
    "time.sleep(1)\n",
    "py.press('enter')\n",
    "time.sleep(2)\n",
    "py.click(314,212)\n",
    "py.press('enter')\n",
    "time.sleep(5)\n",
    "\n",
    "#attach second last item in downloads\n",
    "py.click(1559,261)\n",
    "time.sleep(2)\n",
    "py.press('down') \n",
    "time.sleep(1)\n",
    "py.press('enter')\n",
    "time.sleep(2)\n",
    "py.click(391,235)\n",
    "py.press('enter')\n",
    "time.sleep(5)\n",
    "py.click(1067,712)\n",
    "\n",
    "#sending the email  \n",
    "py.keyDown('ctrl')\n",
    "py.keyDown('enter')\n",
    "py.keyUp('ctrl')\n"
   ]
  },
  {
   "cell_type": "code",
   "execution_count": 5,
   "id": "71f44067",
   "metadata": {},
   "outputs": [
    {
     "data": {
      "text/plain": [
       "Point(x=391, y=235)"
      ]
     },
     "execution_count": 5,
     "metadata": {},
     "output_type": "execute_result"
    }
   ],
   "source": [
    "import pyautogui\n",
    "py.position()\n",
    "#py.click(1559,261)\n",
    "#py.press('down')\n",
    "#py.press('enter')\n",
    "#py.click(314,212)\n",
    "#py.press('enter')"
   ]
  }
 ],
 "metadata": {
  "kernelspec": {
   "display_name": "Python 3 (ipykernel)",
   "language": "python",
   "name": "python3"
  },
  "language_info": {
   "codemirror_mode": {
    "name": "ipython",
    "version": 3
   },
   "file_extension": ".py",
   "mimetype": "text/x-python",
   "name": "python",
   "nbconvert_exporter": "python",
   "pygments_lexer": "ipython3",
   "version": "3.9.7"
  }
 },
 "nbformat": 4,
 "nbformat_minor": 5
}
